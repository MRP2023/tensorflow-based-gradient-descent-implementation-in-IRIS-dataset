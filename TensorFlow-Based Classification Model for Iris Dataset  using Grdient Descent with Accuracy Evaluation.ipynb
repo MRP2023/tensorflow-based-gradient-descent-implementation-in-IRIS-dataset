{
 "cells": [
  {
   "cell_type": "code",
   "execution_count": 1,
   "id": "323f3e46-22cf-4474-8419-79c2d788b179",
   "metadata": {},
   "outputs": [
    {
     "name": "stderr",
     "output_type": "stream",
     "text": [
      "2023-11-08 12:02:49.361791: I tensorflow/core/util/port.cc:111] oneDNN custom operations are on. You may see slightly different numerical results due to floating-point round-off errors from different computation orders. To turn them off, set the environment variable `TF_ENABLE_ONEDNN_OPTS=0`.\n",
      "2023-11-08 12:02:49.462460: I tensorflow/tsl/cuda/cudart_stub.cc:28] Could not find cuda drivers on your machine, GPU will not be used.\n",
      "2023-11-08 12:02:49.930711: E tensorflow/compiler/xla/stream_executor/cuda/cuda_dnn.cc:9342] Unable to register cuDNN factory: Attempting to register factory for plugin cuDNN when one has already been registered\n",
      "2023-11-08 12:02:49.930749: E tensorflow/compiler/xla/stream_executor/cuda/cuda_fft.cc:609] Unable to register cuFFT factory: Attempting to register factory for plugin cuFFT when one has already been registered\n",
      "2023-11-08 12:02:49.933428: E tensorflow/compiler/xla/stream_executor/cuda/cuda_blas.cc:1518] Unable to register cuBLAS factory: Attempting to register factory for plugin cuBLAS when one has already been registered\n",
      "2023-11-08 12:02:50.185460: I tensorflow/tsl/cuda/cudart_stub.cc:28] Could not find cuda drivers on your machine, GPU will not be used.\n",
      "2023-11-08 12:02:50.187653: I tensorflow/core/platform/cpu_feature_guard.cc:182] This TensorFlow binary is optimized to use available CPU instructions in performance-critical operations.\n",
      "To enable the following instructions: AVX2 AVX_VNNI FMA, in other operations, rebuild TensorFlow with the appropriate compiler flags.\n",
      "2023-11-08 12:02:51.571050: W tensorflow/compiler/tf2tensorrt/utils/py_utils.cc:38] TF-TRT Warning: Could not find TensorRT\n"
     ]
    }
   ],
   "source": [
    "import tensorflow as tf\n",
    "from sklearn.model_selection import train_test_split\n",
    "from sklearn.preprocessing import LabelEncoder\n",
    "from sklearn.metrics import accuracy_score\n",
    "import pandas as pd"
   ]
  },
  {
   "cell_type": "code",
   "execution_count": 2,
   "id": "063bf66a-2d8c-4840-8639-759278d1e0c1",
   "metadata": {},
   "outputs": [],
   "source": [
    "from ucimlrepo import fetch_ucirepo\n",
    "\n",
    "# Fetch dataset\n",
    "iris = fetch_ucirepo(id=53)\n",
    "\n",
    "# Data (as pandas DataFrame)\n",
    "df = pd.DataFrame(data=iris.data.features)\n",
    "\n",
    "# Target variable (class labels)\n",
    "y = iris.data.targets"
   ]
  },
  {
   "cell_type": "code",
   "execution_count": 3,
   "id": "3bb394a3-99b4-4ec0-870c-1d0d6adef1a6",
   "metadata": {},
   "outputs": [],
   "source": [
    "# Initialize the label encoder\n",
    "label_encoder = LabelEncoder()\n",
    "\n",
    "# Encode the target variable\n",
    "y_encoded = label_encoder.fit_transform(y['class'])"
   ]
  },
  {
   "cell_type": "code",
   "execution_count": 4,
   "id": "f30f642e-515f-4f1d-8d30-8d8f9a4ef3ca",
   "metadata": {},
   "outputs": [],
   "source": [
    "X_train, X_test, y_train, y_test = train_test_split(df, y_encoded, test_size=0.2, random_state=42)"
   ]
  },
  {
   "cell_type": "code",
   "execution_count": 5,
   "id": "f1a23135-ed9f-4d7b-801e-a78318f7dea6",
   "metadata": {},
   "outputs": [],
   "source": [
    "model = tf.keras.Sequential([\n",
    "    tf.keras.layers.Dense(64, activation='relu', input_shape=(4,)),\n",
    "    tf.keras.layers.Dense(64, activation='relu'),\n",
    "    tf.keras.layers.Dense(3, activation='softmax')\n",
    "])"
   ]
  },
  {
   "cell_type": "code",
   "execution_count": 6,
   "id": "38693edf-d908-417d-8db4-5894d393658b",
   "metadata": {},
   "outputs": [],
   "source": [
    "# Compile the model using Stochastic Gradient Descent (SGD) optimizer\n",
    "sgd = tf.keras.optimizers.SGD(learning_rate=0.01)\n",
    "model.compile(optimizer=sgd, loss='sparse_categorical_crossentropy', metrics=['accuracy'])"
   ]
  },
  {
   "cell_type": "code",
   "execution_count": 7,
   "id": "95a699e6-04b1-4244-b3bd-11cbf03e1f9f",
   "metadata": {},
   "outputs": [
    {
     "name": "stdout",
     "output_type": "stream",
     "text": [
      "Epoch 1/100\n",
      "4/4 [==============================] - 0s 5ms/step - loss: 1.2244 - accuracy: 0.3917\n",
      "Epoch 2/100\n",
      "4/4 [==============================] - 0s 2ms/step - loss: 1.0616 - accuracy: 0.6583\n",
      "Epoch 3/100\n",
      "4/4 [==============================] - 0s 1ms/step - loss: 0.9924 - accuracy: 0.6583\n",
      "Epoch 4/100\n",
      "4/4 [==============================] - 0s 2ms/step - loss: 0.9470 - accuracy: 0.6583\n",
      "Epoch 5/100\n",
      "4/4 [==============================] - 0s 1ms/step - loss: 0.9124 - accuracy: 0.6583\n",
      "Epoch 6/100\n",
      "4/4 [==============================] - 0s 1ms/step - loss: 0.8846 - accuracy: 0.6583\n",
      "Epoch 7/100\n",
      "4/4 [==============================] - 0s 1ms/step - loss: 0.8563 - accuracy: 0.6583\n",
      "Epoch 8/100\n",
      "4/4 [==============================] - 0s 968us/step - loss: 0.8301 - accuracy: 0.6833\n",
      "Epoch 9/100\n",
      "4/4 [==============================] - 0s 1ms/step - loss: 0.8072 - accuracy: 0.7000\n",
      "Epoch 10/100\n",
      "4/4 [==============================] - 0s 2ms/step - loss: 0.7837 - accuracy: 0.6833\n",
      "Epoch 11/100\n",
      "4/4 [==============================] - 0s 1ms/step - loss: 0.7615 - accuracy: 0.7917\n",
      "Epoch 12/100\n",
      "4/4 [==============================] - 0s 1ms/step - loss: 0.7409 - accuracy: 0.8250\n",
      "Epoch 13/100\n",
      "4/4 [==============================] - 0s 1ms/step - loss: 0.7230 - accuracy: 0.7917\n",
      "Epoch 14/100\n",
      "4/4 [==============================] - 0s 1ms/step - loss: 0.7072 - accuracy: 0.7333\n",
      "Epoch 15/100\n",
      "4/4 [==============================] - 0s 1ms/step - loss: 0.6866 - accuracy: 0.9083\n",
      "Epoch 16/100\n",
      "4/4 [==============================] - 0s 985us/step - loss: 0.6696 - accuracy: 0.8167\n",
      "Epoch 17/100\n",
      "4/4 [==============================] - 0s 1ms/step - loss: 0.6573 - accuracy: 0.8333\n",
      "Epoch 18/100\n",
      "4/4 [==============================] - 0s 1ms/step - loss: 0.6362 - accuracy: 0.8583\n",
      "Epoch 19/100\n",
      "4/4 [==============================] - 0s 1ms/step - loss: 0.6236 - accuracy: 0.8667\n",
      "Epoch 20/100\n",
      "4/4 [==============================] - 0s 1ms/step - loss: 0.6097 - accuracy: 0.7417\n",
      "Epoch 21/100\n",
      "4/4 [==============================] - 0s 1ms/step - loss: 0.5919 - accuracy: 0.8583\n",
      "Epoch 22/100\n",
      "4/4 [==============================] - 0s 1ms/step - loss: 0.5758 - accuracy: 0.9333\n",
      "Epoch 23/100\n",
      "4/4 [==============================] - 0s 1ms/step - loss: 0.5655 - accuracy: 0.8833\n",
      "Epoch 24/100\n",
      "4/4 [==============================] - 0s 1ms/step - loss: 0.5519 - accuracy: 0.9250\n",
      "Epoch 25/100\n",
      "4/4 [==============================] - 0s 1ms/step - loss: 0.5427 - accuracy: 0.9083\n",
      "Epoch 26/100\n",
      "4/4 [==============================] - 0s 1ms/step - loss: 0.5302 - accuracy: 0.9333\n",
      "Epoch 27/100\n",
      "4/4 [==============================] - 0s 1ms/step - loss: 0.5175 - accuracy: 0.9333\n",
      "Epoch 28/100\n",
      "4/4 [==============================] - 0s 992us/step - loss: 0.5085 - accuracy: 0.9167\n",
      "Epoch 29/100\n",
      "4/4 [==============================] - 0s 1ms/step - loss: 0.4969 - accuracy: 0.9333\n",
      "Epoch 30/100\n",
      "4/4 [==============================] - 0s 1ms/step - loss: 0.4900 - accuracy: 0.9333\n",
      "Epoch 31/100\n",
      "4/4 [==============================] - 0s 1ms/step - loss: 0.4843 - accuracy: 0.9167\n",
      "Epoch 32/100\n",
      "4/4 [==============================] - 0s 943us/step - loss: 0.4745 - accuracy: 0.9167\n",
      "Epoch 33/100\n",
      "4/4 [==============================] - 0s 1ms/step - loss: 0.4655 - accuracy: 0.9333\n",
      "Epoch 34/100\n",
      "4/4 [==============================] - 0s 1ms/step - loss: 0.4577 - accuracy: 0.9417\n",
      "Epoch 35/100\n",
      "4/4 [==============================] - 0s 1ms/step - loss: 0.4532 - accuracy: 0.9250\n",
      "Epoch 36/100\n",
      "4/4 [==============================] - 0s 1ms/step - loss: 0.4437 - accuracy: 0.9083\n",
      "Epoch 37/100\n",
      "4/4 [==============================] - 0s 1ms/step - loss: 0.4411 - accuracy: 0.9500\n",
      "Epoch 38/100\n",
      "4/4 [==============================] - 0s 975us/step - loss: 0.4329 - accuracy: 0.9417\n",
      "Epoch 39/100\n",
      "4/4 [==============================] - 0s 1ms/step - loss: 0.4236 - accuracy: 0.9583\n",
      "Epoch 40/100\n",
      "4/4 [==============================] - 0s 1ms/step - loss: 0.4157 - accuracy: 0.9667\n",
      "Epoch 41/100\n",
      "4/4 [==============================] - 0s 973us/step - loss: 0.4102 - accuracy: 0.9250\n",
      "Epoch 42/100\n",
      "4/4 [==============================] - 0s 1ms/step - loss: 0.4074 - accuracy: 0.9500\n",
      "Epoch 43/100\n",
      "4/4 [==============================] - 0s 1ms/step - loss: 0.4006 - accuracy: 0.9333\n",
      "Epoch 44/100\n",
      "4/4 [==============================] - 0s 1ms/step - loss: 0.3934 - accuracy: 0.9583\n",
      "Epoch 45/100\n",
      "4/4 [==============================] - 0s 1ms/step - loss: 0.3896 - accuracy: 0.9500\n",
      "Epoch 46/100\n",
      "4/4 [==============================] - 0s 1ms/step - loss: 0.3857 - accuracy: 0.9583\n",
      "Epoch 47/100\n",
      "4/4 [==============================] - 0s 942us/step - loss: 0.3765 - accuracy: 0.9417\n",
      "Epoch 48/100\n",
      "4/4 [==============================] - 0s 1ms/step - loss: 0.3714 - accuracy: 0.9667\n",
      "Epoch 49/100\n",
      "4/4 [==============================] - 0s 1ms/step - loss: 0.3681 - accuracy: 0.9667\n",
      "Epoch 50/100\n",
      "4/4 [==============================] - 0s 995us/step - loss: 0.3631 - accuracy: 0.9500\n",
      "Epoch 51/100\n",
      "4/4 [==============================] - 0s 1ms/step - loss: 0.3614 - accuracy: 0.9583\n",
      "Epoch 52/100\n",
      "4/4 [==============================] - 0s 1ms/step - loss: 0.3536 - accuracy: 0.9583\n",
      "Epoch 53/100\n",
      "4/4 [==============================] - 0s 993us/step - loss: 0.3499 - accuracy: 0.9667\n",
      "Epoch 54/100\n",
      "4/4 [==============================] - 0s 1ms/step - loss: 0.3468 - accuracy: 0.9750\n",
      "Epoch 55/100\n",
      "4/4 [==============================] - 0s 1ms/step - loss: 0.3428 - accuracy: 0.9583\n",
      "Epoch 56/100\n",
      "4/4 [==============================] - 0s 1ms/step - loss: 0.3396 - accuracy: 0.9667\n",
      "Epoch 57/100\n",
      "4/4 [==============================] - 0s 1ms/step - loss: 0.3363 - accuracy: 0.9500\n",
      "Epoch 58/100\n",
      "4/4 [==============================] - 0s 1ms/step - loss: 0.3326 - accuracy: 0.9417\n",
      "Epoch 59/100\n",
      "4/4 [==============================] - 0s 1ms/step - loss: 0.3270 - accuracy: 0.9583\n",
      "Epoch 60/100\n",
      "4/4 [==============================] - 0s 2ms/step - loss: 0.3254 - accuracy: 0.9417\n",
      "Epoch 61/100\n",
      "4/4 [==============================] - 0s 1ms/step - loss: 0.3243 - accuracy: 0.9667\n",
      "Epoch 62/100\n",
      "4/4 [==============================] - 0s 1ms/step - loss: 0.3155 - accuracy: 0.9583\n",
      "Epoch 63/100\n",
      "4/4 [==============================] - 0s 969us/step - loss: 0.3159 - accuracy: 0.9500\n",
      "Epoch 64/100\n",
      "4/4 [==============================] - 0s 908us/step - loss: 0.3098 - accuracy: 0.9500\n",
      "Epoch 65/100\n",
      "4/4 [==============================] - 0s 1ms/step - loss: 0.3031 - accuracy: 0.9750\n",
      "Epoch 66/100\n",
      "4/4 [==============================] - 0s 989us/step - loss: 0.3020 - accuracy: 0.9500\n",
      "Epoch 67/100\n",
      "4/4 [==============================] - 0s 902us/step - loss: 0.3069 - accuracy: 0.9500\n",
      "Epoch 68/100\n",
      "4/4 [==============================] - 0s 1ms/step - loss: 0.3018 - accuracy: 0.9500\n",
      "Epoch 69/100\n",
      "4/4 [==============================] - 0s 1ms/step - loss: 0.2931 - accuracy: 0.9667\n",
      "Epoch 70/100\n",
      "4/4 [==============================] - 0s 922us/step - loss: 0.2957 - accuracy: 0.9667\n",
      "Epoch 71/100\n",
      "4/4 [==============================] - 0s 1ms/step - loss: 0.2862 - accuracy: 0.9667\n",
      "Epoch 72/100\n",
      "4/4 [==============================] - 0s 993us/step - loss: 0.2832 - accuracy: 0.9833\n",
      "Epoch 73/100\n",
      "4/4 [==============================] - 0s 905us/step - loss: 0.2817 - accuracy: 0.9417\n",
      "Epoch 74/100\n",
      "4/4 [==============================] - 0s 938us/step - loss: 0.2861 - accuracy: 0.9500\n",
      "Epoch 75/100\n",
      "4/4 [==============================] - 0s 935us/step - loss: 0.2821 - accuracy: 0.9583\n",
      "Epoch 76/100\n",
      "4/4 [==============================] - 0s 1ms/step - loss: 0.2686 - accuracy: 0.9667\n",
      "Epoch 77/100\n",
      "4/4 [==============================] - 0s 1ms/step - loss: 0.2693 - accuracy: 0.9500\n",
      "Epoch 78/100\n",
      "4/4 [==============================] - 0s 1ms/step - loss: 0.2649 - accuracy: 0.9750\n",
      "Epoch 79/100\n",
      "4/4 [==============================] - 0s 945us/step - loss: 0.2664 - accuracy: 0.9667\n",
      "Epoch 80/100\n",
      "4/4 [==============================] - 0s 1ms/step - loss: 0.2618 - accuracy: 0.9667\n",
      "Epoch 81/100\n",
      "4/4 [==============================] - 0s 974us/step - loss: 0.2544 - accuracy: 0.9667\n",
      "Epoch 82/100\n",
      "4/4 [==============================] - 0s 1ms/step - loss: 0.2583 - accuracy: 0.9667\n",
      "Epoch 83/100\n",
      "4/4 [==============================] - 0s 977us/step - loss: 0.2537 - accuracy: 0.9750\n",
      "Epoch 84/100\n",
      "4/4 [==============================] - 0s 911us/step - loss: 0.2529 - accuracy: 0.9667\n",
      "Epoch 85/100\n",
      "4/4 [==============================] - 0s 1ms/step - loss: 0.2444 - accuracy: 0.9750\n",
      "Epoch 86/100\n",
      "4/4 [==============================] - 0s 1ms/step - loss: 0.2460 - accuracy: 0.9667\n",
      "Epoch 87/100\n",
      "4/4 [==============================] - 0s 1ms/step - loss: 0.2504 - accuracy: 0.9500\n",
      "Epoch 88/100\n",
      "4/4 [==============================] - 0s 1ms/step - loss: 0.2378 - accuracy: 0.9750\n",
      "Epoch 89/100\n",
      "4/4 [==============================] - 0s 1ms/step - loss: 0.2420 - accuracy: 0.9750\n",
      "Epoch 90/100\n",
      "4/4 [==============================] - 0s 982us/step - loss: 0.2331 - accuracy: 0.9667\n",
      "Epoch 91/100\n",
      "4/4 [==============================] - 0s 1ms/step - loss: 0.2344 - accuracy: 0.9667\n",
      "Epoch 92/100\n",
      "4/4 [==============================] - 0s 1ms/step - loss: 0.2317 - accuracy: 0.9583\n",
      "Epoch 93/100\n",
      "4/4 [==============================] - 0s 889us/step - loss: 0.2276 - accuracy: 0.9583\n",
      "Epoch 94/100\n",
      "4/4 [==============================] - 0s 936us/step - loss: 0.2264 - accuracy: 0.9750\n",
      "Epoch 95/100\n",
      "4/4 [==============================] - 0s 943us/step - loss: 0.2223 - accuracy: 0.9500\n",
      "Epoch 96/100\n",
      "4/4 [==============================] - 0s 980us/step - loss: 0.2220 - accuracy: 0.9833\n",
      "Epoch 97/100\n",
      "4/4 [==============================] - 0s 937us/step - loss: 0.2216 - accuracy: 0.9750\n",
      "Epoch 98/100\n",
      "4/4 [==============================] - 0s 886us/step - loss: 0.2133 - accuracy: 0.9667\n",
      "Epoch 99/100\n",
      "4/4 [==============================] - 0s 1ms/step - loss: 0.2132 - accuracy: 0.9667\n",
      "Epoch 100/100\n",
      "4/4 [==============================] - 0s 859us/step - loss: 0.2115 - accuracy: 0.9917\n"
     ]
    },
    {
     "data": {
      "text/plain": [
       "<keras.src.callbacks.History at 0x7f3e7053fcd0>"
      ]
     },
     "execution_count": 7,
     "metadata": {},
     "output_type": "execute_result"
    }
   ],
   "source": [
    "# Train the model using Gradient Descent\n",
    "model.fit(X_train, y_train, epochs=100, verbose=1)"
   ]
  },
  {
   "cell_type": "code",
   "execution_count": 8,
   "id": "3137d90f-9f94-4a39-815e-833983e37cd2",
   "metadata": {},
   "outputs": [
    {
     "name": "stdout",
     "output_type": "stream",
     "text": [
      "1/1 [==============================] - 0s 42ms/step\n"
     ]
    },
    {
     "data": {
      "text/plain": [
       "['Iris-versicolor',\n",
       " 'Iris-setosa',\n",
       " 'Iris-virginica',\n",
       " 'Iris-versicolor',\n",
       " 'Iris-versicolor',\n",
       " 'Iris-setosa',\n",
       " 'Iris-versicolor',\n",
       " 'Iris-virginica',\n",
       " 'Iris-virginica',\n",
       " 'Iris-versicolor',\n",
       " 'Iris-virginica',\n",
       " 'Iris-setosa',\n",
       " 'Iris-setosa',\n",
       " 'Iris-setosa',\n",
       " 'Iris-setosa',\n",
       " 'Iris-versicolor',\n",
       " 'Iris-virginica',\n",
       " 'Iris-versicolor',\n",
       " 'Iris-versicolor',\n",
       " 'Iris-virginica',\n",
       " 'Iris-setosa',\n",
       " 'Iris-virginica',\n",
       " 'Iris-setosa',\n",
       " 'Iris-virginica',\n",
       " 'Iris-virginica',\n",
       " 'Iris-virginica',\n",
       " 'Iris-virginica',\n",
       " 'Iris-virginica',\n",
       " 'Iris-setosa',\n",
       " 'Iris-setosa']"
      ]
     },
     "execution_count": 8,
     "metadata": {},
     "output_type": "execute_result"
    }
   ],
   "source": [
    "# Predict on the test data\n",
    "y_pred = model.predict(X_test)\n",
    "\n",
    "# Convert the predicted probabilities to class labels\n",
    "y_pred_labels = [label_encoder.classes_[x.argmax()] for x in y_pred]\n",
    "y_pred_labels"
   ]
  },
  {
   "cell_type": "code",
   "execution_count": 9,
   "id": "32e990a7-0be9-4461-a137-66414446fb86",
   "metadata": {},
   "outputs": [
    {
     "data": {
      "text/plain": [
       "array([1, 0, 2, 1, 1, 0, 1, 2, 2, 1, 2, 0, 0, 0, 0, 1, 2, 1, 1, 2, 0, 2,\n",
       "       0, 2, 2, 2, 2, 2, 0, 0])"
      ]
     },
     "execution_count": 9,
     "metadata": {},
     "output_type": "execute_result"
    }
   ],
   "source": [
    "# Convert y_pred_labels to an array of integers\n",
    "y_pred_labels_int = label_encoder.transform(y_pred_labels)\n",
    "y_pred_labels_int"
   ]
  },
  {
   "cell_type": "code",
   "execution_count": 10,
   "id": "33bb15fd-3959-418a-a0c8-f6eb4d872ed2",
   "metadata": {},
   "outputs": [
    {
     "name": "stdout",
     "output_type": "stream",
     "text": [
      "Accuracy: 0.9666666666666667\n"
     ]
    }
   ],
   "source": [
    "# Calculate accuracy\n",
    "accuracy = accuracy_score(y_test, y_pred_labels_int)\n",
    "print(\"Accuracy:\", accuracy)"
   ]
  }
 ],
 "metadata": {
  "kernelspec": {
   "display_name": "Python 3 (ipykernel)",
   "language": "python",
   "name": "python3"
  },
  "language_info": {
   "codemirror_mode": {
    "name": "ipython",
    "version": 3
   },
   "file_extension": ".py",
   "mimetype": "text/x-python",
   "name": "python",
   "nbconvert_exporter": "python",
   "pygments_lexer": "ipython3",
   "version": "3.10.12"
  }
 },
 "nbformat": 4,
 "nbformat_minor": 5
}
